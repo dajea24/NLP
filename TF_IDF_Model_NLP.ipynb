{
 "cells": [
  {
   "cell_type": "markdown",
   "metadata": {},
   "source": [
    "# Model Development - TF-IDF \n",
    "\n",
    "- Extraction des features du dataset avec la méthode TF-IDF\n",
    "\n",
    "\n",
    "1. Importation du dataset\n",
    "2. Chargement des librairies\n",
    "3. Création des pipelines pour les modèles de classification\n",
    "4. Création de trainig set et du test set\n",
    "5. Entrainement des modèles de classification\n",
    "6. Predictions\n",
    "7. Résultats\n",
    "8. Conclusion"
   ]
  },
  {
   "cell_type": "markdown",
   "metadata": {},
   "source": [
    "### 1. Importation du dataset"
   ]
  },
  {
   "cell_type": "code",
   "execution_count": 276,
   "metadata": {},
   "outputs": [
    {
     "data": {
      "text/html": [
       "<div>\n",
       "<style scoped>\n",
       "    .dataframe tbody tr th:only-of-type {\n",
       "        vertical-align: middle;\n",
       "    }\n",
       "\n",
       "    .dataframe tbody tr th {\n",
       "        vertical-align: top;\n",
       "    }\n",
       "\n",
       "    .dataframe thead th {\n",
       "        text-align: right;\n",
       "    }\n",
       "</style>\n",
       "<table border=\"1\" class=\"dataframe\">\n",
       "  <thead>\n",
       "    <tr style=\"text-align: right;\">\n",
       "      <th></th>\n",
       "      <th>Label</th>\n",
       "      <th>final</th>\n",
       "    </tr>\n",
       "  </thead>\n",
       "  <tbody>\n",
       "    <tr>\n",
       "      <th>0</th>\n",
       "      <td>cricket</td>\n",
       "      <td>['kumbl', 'break', 'kapil', 'record', 'first',...</td>\n",
       "    </tr>\n",
       "    <tr>\n",
       "      <th>1</th>\n",
       "      <td>cricket</td>\n",
       "      <td>['aussi', 'tighten', 'grip', 'first', 'test', ...</td>\n",
       "    </tr>\n",
       "    <tr>\n",
       "      <th>2</th>\n",
       "      <td>cricket</td>\n",
       "      <td>['vaughan', 'readi', 'south', 'africa', 'skipp...</td>\n",
       "    </tr>\n",
       "    <tr>\n",
       "      <th>3</th>\n",
       "      <td>cricket</td>\n",
       "      <td>['world', 'xi', 'triumph', 'tsunami', 'match',...</td>\n",
       "    </tr>\n",
       "    <tr>\n",
       "      <th>4</th>\n",
       "      <td>cricket</td>\n",
       "      <td>['shoaib', 'rule', 'test', 'seri', 'fast', 'bo...</td>\n",
       "    </tr>\n",
       "  </tbody>\n",
       "</table>\n",
       "</div>"
      ],
      "text/plain": [
       "     Label                                              final\n",
       "0  cricket  ['kumbl', 'break', 'kapil', 'record', 'first',...\n",
       "1  cricket  ['aussi', 'tighten', 'grip', 'first', 'test', ...\n",
       "2  cricket  ['vaughan', 'readi', 'south', 'africa', 'skipp...\n",
       "3  cricket  ['world', 'xi', 'triumph', 'tsunami', 'match',...\n",
       "4  cricket  ['shoaib', 'rule', 'test', 'seri', 'fast', 'bo..."
      ]
     },
     "execution_count": 276,
     "metadata": {},
     "output_type": "execute_result"
    }
   ],
   "source": [
    "## for data manipulation\n",
    "import numpy as np\n",
    "import pandas as pd\n",
    "\n",
    "## import the dataset\n",
    "df=pd.read_csv(\"data_cleaning.csv\")\n",
    "df.head()"
   ]
  },
  {
   "cell_type": "code",
   "execution_count": 277,
   "metadata": {},
   "outputs": [
    {
     "data": {
      "text/plain": [
       "(472, 2)"
      ]
     },
     "execution_count": 277,
     "metadata": {},
     "output_type": "execute_result"
    }
   ],
   "source": [
    "## for the dataset shape\n",
    "df.shape"
   ]
  },
  {
   "cell_type": "markdown",
   "metadata": {},
   "source": [
    "### 2. Chargement des librairies"
   ]
  },
  {
   "cell_type": "code",
   "execution_count": 278,
   "metadata": {},
   "outputs": [],
   "source": [
    "import numpy as np\n",
    "\n",
    "## for plotting\n",
    "import matplotlib.pyplot as plt\n",
    "import seaborn as sns\n",
    "\n",
    "## for bag-of-words and TF-IDF\n",
    "from sklearn.feature_extraction.text import TfidfVectorizer\n",
    "from sklearn.model_selection import train_test_split\n",
    "\n",
    "## for metrics, pipeline, preprocessing\n",
    "from sklearn.pipeline import Pipeline\n",
    "from sklearn import metrics\n",
    "from sklearn.metrics import roc_curve\n",
    "\n",
    "## for multinmial Naive Bayes Classifier\n",
    "from sklearn.naive_bayes import MultinomialNB\n",
    "\n",
    "## KNN Classifier\n",
    "from sklearn.neighbors import KNeighborsClassifier\n",
    "\n",
    "## Decision Tree Classifier\n",
    "from sklearn.tree import DecisionTreeClassifier\n",
    "\n",
    "## Random Forest, AdaBoost Classifier, Gradient Boosting, Bagging Classifier\n",
    "from sklearn.ensemble import RandomForestClassifier, AdaBoostClassifier, GradientBoostingClassifier, BaggingClassifier"
   ]
  },
  {
   "cell_type": "markdown",
   "metadata": {},
   "source": [
    "### 3. Creation des pipelines pour les modèles de classification"
   ]
  },
  {
   "cell_type": "code",
   "execution_count": 279,
   "metadata": {},
   "outputs": [],
   "source": [
    "\n",
    "## TF-IDF KNN Classifier pipeline setup\n",
    "knn_pipe = Pipeline([\n",
    " ('tf_idf', TfidfVectorizer()),\n",
    " ('knn', KNeighborsClassifier())\n",
    "])\n",
    "\n",
    "## TF-IDF Gradient Boosting Classifier pipeline setup\n",
    "gdb_pipe = Pipeline([\n",
    " ('tf_idf', TfidfVectorizer()),\n",
    " ('gdb', GradientBoostingClassifier())\n",
    "])\n",
    "\n",
    "## TF-IDF Decision Tree Classifier pipeline setup\n",
    "tree_pipe = Pipeline([\n",
    " ('tf_idf', TfidfVectorizer()),\n",
    " ('tree', DecisionTreeClassifier())\n",
    "])\n",
    "\n",
    "\n",
    "## TF-IDF Multinomial Naïve Bayes pipeline setup\n",
    "nb_pipe = Pipeline([\n",
    " ('tf_idf', TfidfVectorizer()),\n",
    " ('nb', MultinomialNB())\n",
    "])\n",
    "\n",
    "## TF-IDF Random Forest pipeline setup\n",
    "rf_pipe = Pipeline([\n",
    " ('tf_idf', TfidfVectorizer()),\n",
    " ('rf', RandomForestClassifier())\n",
    "])\n",
    "\n",
    "## TF-IDF AdaBoost Classifier pipeline setup\n",
    "ada_pipe = Pipeline([\n",
    " ('tf_idf', TfidfVectorizer()),\n",
    " ('ada', AdaBoostClassifier())\n",
    "])\n",
    "\n",
    "## TF-IDF Bagging Classifier pipeline setup\n",
    "bag_pipe = Pipeline([\n",
    " ('tf_idf', TfidfVectorizer()),\n",
    " ('bag', AdaBoostClassifier())\n",
    "])\n"
   ]
  },
  {
   "cell_type": "markdown",
   "metadata": {},
   "source": [
    "### 4. Creation d'un training set et d'un test set"
   ]
  },
  {
   "cell_type": "code",
   "execution_count": 280,
   "metadata": {},
   "outputs": [],
   "source": [
    "## Split the dataset \n",
    "\n",
    "y = df.drop(\"final\", axis=1)\n",
    "X = df.drop(\"Label\", axis=1)\n",
    "\n",
    "a_y = y.values.ravel()\n",
    "a_X = X.values.ravel()\n",
    "\n",
    "X_train, X_test, y_train, y_test = train_test_split(a_X, a_y, test_size=.20, random_state=0) ##  train/test 80/20\n"
   ]
  },
  {
   "cell_type": "markdown",
   "metadata": {},
   "source": [
    "### 5. Entraînement de modèles de classification"
   ]
  },
  {
   "cell_type": "code",
   "execution_count": 281,
   "metadata": {},
   "outputs": [],
   "source": [
    "X_train, X_test, y_train, y_test = train_test_split(a_X, a_y, test_size=.20, random_state=0) ##  train/test 80/20\n",
    "\n",
    "## Train the model\n",
    "model_nb = nb_pipe.fit(X_train, y_train)\n",
    "model_knn = knn_pipe.fit(X_train, y_train)\n",
    "model_gdb = gdb_pipe.fit(X_train, y_train)\n",
    "model_tree = tree_pipe.fit(X_train, y_train)\n",
    "model_rf = rf_pipe.fit(X_train, y_train)\n",
    "model_ada = ada_pipe.fit(X_train, y_train)\n",
    "model_bag = bag_pipe.fit(X_train, y_train)"
   ]
  },
  {
   "cell_type": "markdown",
   "metadata": {},
   "source": [
    "### 6. Predictions"
   ]
  },
  {
   "cell_type": "code",
   "execution_count": 282,
   "metadata": {},
   "outputs": [],
   "source": [
    "#Prediction\n",
    "pred_nb = model_nb.predict(X_test)\n",
    "pred_knn = model_knn.predict(X_test)\n",
    "pred_gdb = model_gdb.predict(X_test)\n",
    "pred_tree = model_tree.predict(X_test)\n",
    "pred_rf = model_rf.predict(X_test)\n",
    "pred_ada = model_ada.predict(X_test)\n",
    "pred_bag = model_bag.predict(X_test)"
   ]
  },
  {
   "cell_type": "markdown",
   "metadata": {},
   "source": [
    "### 7. Resultats\n",
    "\n",
    "\n",
    "### Naive Bayes Classifier"
   ]
  },
  {
   "cell_type": "code",
   "execution_count": 283,
   "metadata": {},
   "outputs": [
    {
     "name": "stdout",
     "output_type": "stream",
     "text": [
      "Naive Bayes Accuracy: 0.94\n",
      "Detail:\n",
      "              precision    recall  f1-score   support\n",
      "\n",
      "   athletics       1.00      0.94      0.97        18\n",
      "     cricket       1.00      0.90      0.95        20\n",
      "       rugby       0.85      1.00      0.92        35\n",
      "      tennis       1.00      0.86      0.93        22\n",
      "\n",
      "    accuracy                           0.94        95\n",
      "   macro avg       0.96      0.93      0.94        95\n",
      "weighted avg       0.95      0.94      0.94        95\n",
      "\n"
     ]
    },
    {
     "data": {
      "text/plain": [
       "Text(24.0, 0.5, 'Réel')"
      ]
     },
     "execution_count": 283,
     "metadata": {},
     "output_type": "execute_result"
    },
    {
     "data": {
      "image/png": "[encoded data removed]",
      "text/plain": [
       "<Figure size 360x360 with 1 Axes>"
      ]
     },
     "metadata": {
      "needs_background": "light"
     },
     "output_type": "display_data"
    }
   ],
   "source": [
    "## Accuracy, Precision, Recall\n",
    "accuracy = metrics.accuracy_score(y_test, pred_nb)\n",
    "print(\"Naive Bayes Accuracy:\",  round(accuracy,2))\n",
    "print(\"Detail:\")\n",
    "print(metrics.classification_report(y_test, pred_nb))\n",
    "\n",
    "#Matrice de confusion\n",
    "fig, ax = plt.subplots(figsize=(5,5)) \n",
    "categories = ['football', 'cricket', 'athletics', 'rugby', 'tennis']\n",
    "cm = metrics.confusion_matrix(y_test, pred_nb)\n",
    "ax = sns.heatmap(cm, annot=True, \n",
    "                 xticklabels=categories, \n",
    "                 yticklabels=categories,\n",
    "                 fmt='3d', cbar=False) # cells are counts\n",
    "ax.set_xlabel('Prediction')\n",
    "ax.set_ylabel('Réel')"
   ]
  },
  {
   "cell_type": "markdown",
   "metadata": {},
   "source": [
    "### KNN Classifier"
   ]
  },
  {
   "cell_type": "code",
   "execution_count": 284,
   "metadata": {},
   "outputs": [
    {
     "name": "stdout",
     "output_type": "stream",
     "text": [
      "KNN Classifier Accuracy: 0.96\n",
      "Detail:\n",
      "              precision    recall  f1-score   support\n",
      "\n",
      "   athletics       0.89      0.94      0.92        18\n",
      "     cricket       1.00      0.95      0.97        20\n",
      "       rugby       0.94      0.97      0.96        35\n",
      "      tennis       1.00      0.95      0.98        22\n",
      "\n",
      "    accuracy                           0.96        95\n",
      "   macro avg       0.96      0.96      0.96        95\n",
      "weighted avg       0.96      0.96      0.96        95\n",
      "\n"
     ]
    },
    {
     "data": {
      "text/plain": [
       "Text(24.0, 0.5, 'Réel')"
      ]
     },
     "execution_count": 284,
     "metadata": {},
     "output_type": "execute_result"
    },
    {
     "data": {
      "image/png": "[encoded data removed]",
      "text/plain": [
       "<Figure size 360x360 with 1 Axes>"
      ]
     },
     "metadata": {
      "needs_background": "light"
     },
     "output_type": "display_data"
    }
   ],
   "source": [
    "## Accuracy, Precision, Recall\n",
    "accuracy = metrics.accuracy_score(y_test, pred_knn)\n",
    "print(\"KNN Classifier Accuracy:\",  round(accuracy,2))\n",
    "print(\"Detail:\")\n",
    "print(metrics.classification_report(y_test, pred_knn))\n",
    "\n",
    "#Matrice de confusion\n",
    "fig, ax = plt.subplots(figsize=(5,5)) \n",
    "categories = ['football', 'cricket', 'athletics', 'rugby', 'tennis']\n",
    "cm = metrics.confusion_matrix(y_test, pred_knn)\n",
    "ax = sns.heatmap(cm, annot=True, \n",
    "                 xticklabels=categories, \n",
    "                 yticklabels=categories,\n",
    "                 fmt='3d', cbar=False) # cells are counts\n",
    "ax.set_xlabel('Prediction')\n",
    "ax.set_ylabel('Réel')"
   ]
  },
  {
   "cell_type": "markdown",
   "metadata": {},
   "source": [
    "### Gradient Boosting Classifier"
   ]
  },
  {
   "cell_type": "code",
   "execution_count": 285,
   "metadata": {},
   "outputs": [
    {
     "name": "stdout",
     "output_type": "stream",
     "text": [
      "Gradient Boosting Classifier Accuracy: 0.95\n",
      "Detail:\n",
      "              precision    recall  f1-score   support\n",
      "\n",
      "   athletics       0.82      1.00      0.90        18\n",
      "     cricket       0.95      1.00      0.98        20\n",
      "       rugby       1.00      0.94      0.97        35\n",
      "      tennis       1.00      0.86      0.93        22\n",
      "\n",
      "    accuracy                           0.95        95\n",
      "   macro avg       0.94      0.95      0.94        95\n",
      "weighted avg       0.96      0.95      0.95        95\n",
      "\n"
     ]
    },
    {
     "data": {
      "text/plain": [
       "Text(24.0, 0.5, 'Réel')"
      ]
     },
     "execution_count": 285,
     "metadata": {},
     "output_type": "execute_result"
    },
    {
     "data": {
      "image/png": "[encoded data removed]",
      "text/plain": [
       "<Figure size 360x360 with 1 Axes>"
      ]
     },
     "metadata": {
      "needs_background": "light"
     },
     "output_type": "display_data"
    }
   ],
   "source": [
    "## Accuracy, Precision, Recall\n",
    "accuracy = metrics.accuracy_score(y_test, pred_gdb)\n",
    "print(\"Gradient Boosting Classifier Accuracy:\",  round(accuracy,2))\n",
    "print(\"Detail:\")\n",
    "print(metrics.classification_report(y_test, pred_gdb))\n",
    "\n",
    "#Matrice de confusion\n",
    "fig, ax = plt.subplots(figsize=(5,5)) \n",
    "categories = ['football', 'cricket', 'athletics', 'rugby', 'tennis']\n",
    "cm = metrics.confusion_matrix(y_test, pred_gdb)\n",
    "ax = sns.heatmap(cm, annot=True, \n",
    "                 xticklabels=categories, \n",
    "                 yticklabels=categories,\n",
    "                 fmt='3d', cbar=False) # cells are counts\n",
    "ax.set_xlabel('Prediction')\n",
    "ax.set_ylabel('Réel')"
   ]
  },
  {
   "cell_type": "markdown",
   "metadata": {},
   "source": [
    "### Decision Tree Classifier"
   ]
  },
  {
   "cell_type": "code",
   "execution_count": 286,
   "metadata": {},
   "outputs": [
    {
     "name": "stdout",
     "output_type": "stream",
     "text": [
      "Decision Tree Classifier Accuracy: 0.91\n",
      "Detail:\n",
      "              precision    recall  f1-score   support\n",
      "\n",
      "   athletics       0.77      0.94      0.85        18\n",
      "     cricket       0.90      0.95      0.93        20\n",
      "       rugby       0.94      0.94      0.94        35\n",
      "      tennis       1.00      0.77      0.87        22\n",
      "\n",
      "    accuracy                           0.91        95\n",
      "   macro avg       0.91      0.90      0.90        95\n",
      "weighted avg       0.92      0.91      0.91        95\n",
      "\n"
     ]
    },
    {
     "data": {
      "text/plain": [
       "Text(24.0, 0.5, 'Réel')"
      ]
     },
     "execution_count": 286,
     "metadata": {},
     "output_type": "execute_result"
    },
    {
     "data": {
      "image/png": "[encoded data removed]",
      "text/plain": [
       "<Figure size 360x360 with 1 Axes>"
      ]
     },
     "metadata": {
      "needs_background": "light"
     },
     "output_type": "display_data"
    }
   ],
   "source": [
    "## Accuracy, Precision, Recall\n",
    "accuracy = metrics.accuracy_score(y_test, pred_tree)\n",
    "print(\"Decision Tree Classifier Accuracy:\",  round(accuracy,2))\n",
    "print(\"Detail:\")\n",
    "print(metrics.classification_report(y_test, pred_tree))\n",
    "\n",
    "#Matrice de confusion\n",
    "fig, ax = plt.subplots(figsize=(5,5)) \n",
    "categories = ['football', 'cricket', 'athletics', 'rugby', 'tennis']\n",
    "cm = metrics.confusion_matrix(y_test, pred_tree)\n",
    "ax = sns.heatmap(cm, annot=True, \n",
    "                 xticklabels=categories, \n",
    "                 yticklabels=categories,\n",
    "                 fmt='3d', cbar=False) # cells are counts\n",
    "ax.set_xlabel('Prediction')\n",
    "ax.set_ylabel('Réel')"
   ]
  },
  {
   "cell_type": "markdown",
   "metadata": {},
   "source": [
    "### Random Forest Classifier"
   ]
  },
  {
   "cell_type": "code",
   "execution_count": 287,
   "metadata": {},
   "outputs": [
    {
     "name": "stdout",
     "output_type": "stream",
     "text": [
      "Random Forest Classifier Accuracy: 0.99\n",
      "Detail:\n",
      "              precision    recall  f1-score   support\n",
      "\n",
      "   athletics       1.00      1.00      1.00        18\n",
      "     cricket       1.00      1.00      1.00        20\n",
      "       rugby       0.97      1.00      0.99        35\n",
      "      tennis       1.00      0.95      0.98        22\n",
      "\n",
      "    accuracy                           0.99        95\n",
      "   macro avg       0.99      0.99      0.99        95\n",
      "weighted avg       0.99      0.99      0.99        95\n",
      "\n"
     ]
    },
    {
     "data": {
      "text/plain": [
       "Text(24.0, 0.5, 'Réel')"
      ]
     },
     "execution_count": 287,
     "metadata": {},
     "output_type": "execute_result"
    },
    {
     "data": {
      "image/png": "[encoded data removed]",
      "text/plain": [
       "<Figure size 360x360 with 1 Axes>"
      ]
     },
     "metadata": {
      "needs_background": "light"
     },
     "output_type": "display_data"
    }
   ],
   "source": [
    "## Accuracy, Precision, Recall\n",
    "accuracy = metrics.accuracy_score(y_test, pred_rf)\n",
    "print(\"Random Forest Classifier Accuracy:\",  round(accuracy,2))\n",
    "print(\"Detail:\")\n",
    "print(metrics.classification_report(y_test, pred_rf))\n",
    "\n",
    "#Matrice de confusion\n",
    "fig, ax = plt.subplots(figsize=(5,5)) \n",
    "categories = ['football', 'cricket', 'athletics', 'rugby', 'tennis']\n",
    "cm = metrics.confusion_matrix(y_test, pred_rf)\n",
    "ax = sns.heatmap(cm, annot=True, \n",
    "                 xticklabels=categories, \n",
    "                 yticklabels=categories,\n",
    "                 fmt='3d', cbar=False) # cells are counts\n",
    "ax.set_xlabel('Prediction')\n",
    "ax.set_ylabel('Réel')"
   ]
  },
  {
   "cell_type": "markdown",
   "metadata": {},
   "source": [
    "### AdaBoost Classifier"
   ]
  },
  {
   "cell_type": "code",
   "execution_count": 288,
   "metadata": {},
   "outputs": [
    {
     "name": "stdout",
     "output_type": "stream",
     "text": [
      "AdaBoost Classifier Accuracy: 0.84\n",
      "Detail:\n",
      "              precision    recall  f1-score   support\n",
      "\n",
      "   athletics       0.75      1.00      0.86        18\n",
      "     cricket       0.90      0.95      0.93        20\n",
      "       rugby       0.93      0.77      0.84        35\n",
      "      tennis       0.76      0.73      0.74        22\n",
      "\n",
      "    accuracy                           0.84        95\n",
      "   macro avg       0.84      0.86      0.84        95\n",
      "weighted avg       0.85      0.84      0.84        95\n",
      "\n"
     ]
    },
    {
     "data": {
      "text/plain": [
       "Text(24.0, 0.5, 'Réel')"
      ]
     },
     "execution_count": 288,
     "metadata": {},
     "output_type": "execute_result"
    },
    {
     "data": {
      "image/png": "[encoded data removed]",
      "text/plain": [
       "<Figure size 360x360 with 1 Axes>"
      ]
     },
     "metadata": {
      "needs_background": "light"
     },
     "output_type": "display_data"
    }
   ],
   "source": [
    "## Accuracy, Precision, Recall\n",
    "accuracy = metrics.accuracy_score(y_test, pred_ada)\n",
    "print(\"AdaBoost Classifier Accuracy:\",  round(accuracy,2))\n",
    "print(\"Detail:\")\n",
    "print(metrics.classification_report(y_test, pred_ada))\n",
    "\n",
    "#Matrice de confusion\n",
    "fig, ax = plt.subplots(figsize=(5,5)) \n",
    "categories = ['football', 'cricket', 'athletics', 'rugby', 'tennis']\n",
    "cm = metrics.confusion_matrix(y_test, pred_ada)\n",
    "ax = sns.heatmap(cm, annot=True, \n",
    "                 xticklabels=categories, \n",
    "                 yticklabels=categories,\n",
    "                 fmt='3d', cbar=False) # cells are counts\n",
    "ax.set_xlabel('Prediction')\n",
    "ax.set_ylabel('Réel')"
   ]
  },
  {
   "cell_type": "markdown",
   "metadata": {},
   "source": [
    "### Bagging Classifier"
   ]
  },
  {
   "cell_type": "code",
   "execution_count": 289,
   "metadata": {},
   "outputs": [
    {
     "name": "stdout",
     "output_type": "stream",
     "text": [
      "Bagging Classifier Accuracy: 0.84\n",
      "Detail:\n",
      "              precision    recall  f1-score   support\n",
      "\n",
      "   athletics       0.75      1.00      0.86        18\n",
      "     cricket       0.90      0.95      0.93        20\n",
      "       rugby       0.93      0.77      0.84        35\n",
      "      tennis       0.76      0.73      0.74        22\n",
      "\n",
      "    accuracy                           0.84        95\n",
      "   macro avg       0.84      0.86      0.84        95\n",
      "weighted avg       0.85      0.84      0.84        95\n",
      "\n"
     ]
    },
    {
     "data": {
      "text/plain": [
       "Text(24.0, 0.5, 'Réel')"
      ]
     },
     "execution_count": 289,
     "metadata": {},
     "output_type": "execute_result"
    },
    {
     "data": {
      "image/png": "[encoded data removed]",
      "text/plain": [
       "<Figure size 360x360 with 1 Axes>"
      ]
     },
     "metadata": {
      "needs_background": "light"
     },
     "output_type": "display_data"
    }
   ],
   "source": [
    "## Accuracy, Precision, Recall\n",
    "accuracy = metrics.accuracy_score(y_test, pred_bag)\n",
    "print(\"Bagging Classifier Accuracy:\",  round(accuracy,2))\n",
    "print(\"Detail:\")\n",
    "print(metrics.classification_report(y_test, pred_bag))\n",
    "\n",
    "#Matrice de confusion\n",
    "fig, ax = plt.subplots(figsize=(5,5)) \n",
    "categories = ['football', 'cricket', 'athletics', 'rugby', 'tennis']\n",
    "cm = metrics.confusion_matrix(y_test, pred_bag)\n",
    "ax = sns.heatmap(cm, annot=True, \n",
    "                 xticklabels=categories, \n",
    "                 yticklabels=categories,\n",
    "                 fmt='3d', cbar=False) # cells are counts\n",
    "ax.set_xlabel('Prediction')\n",
    "ax.set_ylabel('Réel')"
   ]
  },
  {
   "cell_type": "markdown",
   "metadata": {},
   "source": [
    "### 8. Conclusion\n",
    "\n",
    "- Si nous prenons en compte uniquement la métrique f1-score, c'est le modèle basée sur l'algorithme Random Forest qui detient le meilleur score de 97% avec la méthode d'extraction de feature Bag Of Words.\n"
   ]
  },
  {
   "cell_type": "code",
   "execution_count": null,
   "metadata": {},
   "outputs": [],
   "source": []
  }
 ],
 "metadata": {
  "kernelspec": {
   "display_name": "Python 3",
   "language": "python",
   "name": "python3"
  },
  "language_info": {
   "codemirror_mode": {
    "name": "ipython",
    "version": 3
   },
   "file_extension": ".py",
   "mimetype": "text/x-python",
   "name": "python",
   "nbconvert_exporter": "python",
   "pygments_lexer": "ipython3",
   "version": "3.8.5"
  }
 },
 "nbformat": 4,
 "nbformat_minor": 4
}
