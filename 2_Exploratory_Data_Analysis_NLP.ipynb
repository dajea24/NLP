{
 "cells": [
  {
   "cell_type": "code",
   "execution_count": 28,
   "metadata": {},
   "outputs": [
    {
     "data": {
      "text/html": [
       "<div>\n",
       "<style scoped>\n",
       "    .dataframe tbody tr th:only-of-type {\n",
       "        vertical-align: middle;\n",
       "    }\n",
       "\n",
       "    .dataframe tbody tr th {\n",
       "        vertical-align: top;\n",
       "    }\n",
       "\n",
       "    .dataframe thead th {\n",
       "        text-align: right;\n",
       "    }\n",
       "</style>\n",
       "<table border=\"1\" class=\"dataframe\">\n",
       "  <thead>\n",
       "    <tr style=\"text-align: right;\">\n",
       "      <th></th>\n",
       "      <th>Label</th>\n",
       "      <th>Text</th>\n",
       "    </tr>\n",
       "  </thead>\n",
       "  <tbody>\n",
       "    <tr>\n",
       "      <th>0</th>\n",
       "      <td>cricket</td>\n",
       "      <td>b\"Kumble breaks Kapil's record\\n\\nFirst Test, ...</td>\n",
       "    </tr>\n",
       "    <tr>\n",
       "      <th>1</th>\n",
       "      <td>cricket</td>\n",
       "      <td>b\"Aussies tighten grip\\n\\nFirst Test, Perth, d...</td>\n",
       "    </tr>\n",
       "    <tr>\n",
       "      <th>2</th>\n",
       "      <td>cricket</td>\n",
       "      <td>b'Vaughan ready for South Africa\\n\\nSkipper Mi...</td>\n",
       "    </tr>\n",
       "    <tr>\n",
       "      <th>3</th>\n",
       "      <td>cricket</td>\n",
       "      <td>b'World XI triumph in tsunami match\\n\\nTsunami...</td>\n",
       "    </tr>\n",
       "    <tr>\n",
       "      <th>4</th>\n",
       "      <td>cricket</td>\n",
       "      <td>b'Shoaib ruled out of Test series\\n\\nFast bowl...</td>\n",
       "    </tr>\n",
       "  </tbody>\n",
       "</table>\n",
       "</div>"
      ],
      "text/plain": [
       "     Label                                               Text\n",
       "0  cricket  b\"Kumble breaks Kapil's record\\n\\nFirst Test, ...\n",
       "1  cricket  b\"Aussies tighten grip\\n\\nFirst Test, Perth, d...\n",
       "2  cricket  b'Vaughan ready for South Africa\\n\\nSkipper Mi...\n",
       "3  cricket  b'World XI triumph in tsunami match\\n\\nTsunami...\n",
       "4  cricket  b'Shoaib ruled out of Test series\\n\\nFast bowl..."
      ]
     },
     "execution_count": 28,
     "metadata": {},
     "output_type": "execute_result"
    }
   ],
   "source": [
    "import pandas as pd\n",
    "import matplotlib.pyplot as plt\n",
    "df=pd.read_csv(\"data.csv\")\n",
    "df.head()"
   ]
  },
  {
   "cell_type": "code",
   "execution_count": 25,
   "metadata": {},
   "outputs": [
    {
     "name": "stderr",
     "output_type": "stream",
     "text": [
      "[nltk_data] Downloading package stopwords to\n",
      "[nltk_data]     /Users/davidjeannette/nltk_data...\n",
      "[nltk_data]   Package stopwords is already up-to-date!\n"
     ]
    }
   ],
   "source": [
    "#calcul du nombre de stopwords\n",
    "from nltk.corpus import stopwords\n",
    "import nltk\n",
    "\n",
    "nltk.download('stopwords')\n",
    "\n",
    "def word_average(x):\n",
    "    mots = x.split()\n",
    "    return sum(len(mot)  for mot in mots ) / len(mots)\n",
    "\n",
    "\n",
    "def text_EDA(df):\n",
    "    \n",
    "    # nombre de mots par document\n",
    "    df[\"word_count\"] = df[\"Text\"].map(lambda x: len(str(x).split()))\n",
    "    # nombre de caractère par document\n",
    "    df[\"char_count\"] =df[\"Text\"].map(lambda x : len(str(x)))\n",
    "    # nombre moyen de mots par document\n",
    "    df[\"word_average\"] = df[\"Text\"].map(lambda x : word_average(x))\n",
    "    # nombre de caracteres spéciaux dans chaque ligne\n",
    "    df[\"char_special: /\"] = df[\"Text\"].map(lambda x :len( [x for x in x.split() if \"/\" in x]))\n",
    "    df[\"char_special: @\"] = df[\"Text\"].map(lambda x :len( [x for x in x.split() if \"@\" in x]))\n",
    "    # nombre de digits sur chaque ligne\n",
    "    df[\"car_digit\"] = df[\"Text\"].map(lambda x :len( [x for x in x.split() if x.isdigit()]))\n",
    "    #calcul du nombre de stop words sur chaque ligne\n",
    "    df[\"stopwords\"] =df[\"Text\"].map(lambda x : len( [x for x in x.split() if x in stopwords.words('english')] ))\n",
    "    \n",
    "    return df.head()"
   ]
  },
  {
   "cell_type": "code",
   "execution_count": 26,
   "metadata": {},
   "outputs": [
    {
     "data": {
      "text/html": [
       "<div>\n",
       "<style scoped>\n",
       "    .dataframe tbody tr th:only-of-type {\n",
       "        vertical-align: middle;\n",
       "    }\n",
       "\n",
       "    .dataframe tbody tr th {\n",
       "        vertical-align: top;\n",
       "    }\n",
       "\n",
       "    .dataframe thead th {\n",
       "        text-align: right;\n",
       "    }\n",
       "</style>\n",
       "<table border=\"1\" class=\"dataframe\">\n",
       "  <thead>\n",
       "    <tr style=\"text-align: right;\">\n",
       "      <th></th>\n",
       "      <th>Label</th>\n",
       "      <th>Text</th>\n",
       "      <th>word_count</th>\n",
       "      <th>char_count</th>\n",
       "      <th>word_average</th>\n",
       "      <th>char_special: /</th>\n",
       "      <th>char_special: @</th>\n",
       "      <th>car_digit</th>\n",
       "      <th>stopwords</th>\n",
       "    </tr>\n",
       "  </thead>\n",
       "  <tbody>\n",
       "    <tr>\n",
       "      <th>0</th>\n",
       "      <td>cricket</td>\n",
       "      <td>b\"Kumble breaks Kapil's record\\n\\nFirst Test, ...</td>\n",
       "      <td>331</td>\n",
       "      <td>1953</td>\n",
       "      <td>4.903323</td>\n",
       "      <td>0</td>\n",
       "      <td>0</td>\n",
       "      <td>6</td>\n",
       "      <td>101</td>\n",
       "    </tr>\n",
       "    <tr>\n",
       "      <th>1</th>\n",
       "      <td>cricket</td>\n",
       "      <td>b\"Aussies tighten grip\\n\\nFirst Test, Perth, d...</td>\n",
       "      <td>444</td>\n",
       "      <td>2638</td>\n",
       "      <td>4.943694</td>\n",
       "      <td>0</td>\n",
       "      <td>0</td>\n",
       "      <td>11</td>\n",
       "      <td>154</td>\n",
       "    </tr>\n",
       "    <tr>\n",
       "      <th>2</th>\n",
       "      <td>cricket</td>\n",
       "      <td>b'Vaughan ready for South Africa\\n\\nSkipper Mi...</td>\n",
       "      <td>524</td>\n",
       "      <td>2987</td>\n",
       "      <td>4.702290</td>\n",
       "      <td>0</td>\n",
       "      <td>0</td>\n",
       "      <td>3</td>\n",
       "      <td>218</td>\n",
       "    </tr>\n",
       "    <tr>\n",
       "      <th>3</th>\n",
       "      <td>cricket</td>\n",
       "      <td>b'World XI triumph in tsunami match\\n\\nTsunami...</td>\n",
       "      <td>530</td>\n",
       "      <td>3157</td>\n",
       "      <td>4.958491</td>\n",
       "      <td>2</td>\n",
       "      <td>0</td>\n",
       "      <td>6</td>\n",
       "      <td>167</td>\n",
       "    </tr>\n",
       "    <tr>\n",
       "      <th>4</th>\n",
       "      <td>cricket</td>\n",
       "      <td>b'Shoaib ruled out of Test series\\n\\nFast bowl...</td>\n",
       "      <td>411</td>\n",
       "      <td>2383</td>\n",
       "      <td>4.800487</td>\n",
       "      <td>0</td>\n",
       "      <td>0</td>\n",
       "      <td>4</td>\n",
       "      <td>170</td>\n",
       "    </tr>\n",
       "  </tbody>\n",
       "</table>\n",
       "</div>"
      ],
      "text/plain": [
       "     Label                                               Text  word_count  \\\n",
       "0  cricket  b\"Kumble breaks Kapil's record\\n\\nFirst Test, ...         331   \n",
       "1  cricket  b\"Aussies tighten grip\\n\\nFirst Test, Perth, d...         444   \n",
       "2  cricket  b'Vaughan ready for South Africa\\n\\nSkipper Mi...         524   \n",
       "3  cricket  b'World XI triumph in tsunami match\\n\\nTsunami...         530   \n",
       "4  cricket  b'Shoaib ruled out of Test series\\n\\nFast bowl...         411   \n",
       "\n",
       "   char_count  word_average  char_special: /  char_special: @  car_digit  \\\n",
       "0        1953      4.903323                0                0          6   \n",
       "1        2638      4.943694                0                0         11   \n",
       "2        2987      4.702290                0                0          3   \n",
       "3        3157      4.958491                2                0          6   \n",
       "4        2383      4.800487                0                0          4   \n",
       "\n",
       "   stopwords  \n",
       "0        101  \n",
       "1        154  \n",
       "2        218  \n",
       "3        167  \n",
       "4        170  "
      ]
     },
     "execution_count": 26,
     "metadata": {},
     "output_type": "execute_result"
    }
   ],
   "source": [
    "text_EDA(df)"
   ]
  },
  {
   "cell_type": "code",
   "execution_count": 30,
   "metadata": {},
   "outputs": [
    {
     "data": {
      "image/png": "[encoded data removed]",
      "text/plain": [
       "<Figure size 432x288 with 1 Axes>"
      ]
     },
     "metadata": {
      "needs_background": "light"
     },
     "output_type": "display_data"
    }
   ],
   "source": [
    "fig, ax = plt.subplots()\n",
    "fig.suptitle(\"y\", fontsize=12)\n",
    "df[\"Label\"].reset_index().groupby(\"Label\").count().sort_values(by= \n",
    "       \"index\").plot(kind=\"barh\", legend=False, \n",
    "        ax=ax).grid(axis='x')\n",
    "plt.show()"
   ]
  },
  {
   "cell_type": "markdown",
   "metadata": {},
   "source": [
    "**Commentaires**:\n",
    "\n",
    "- Nous pouvons constater que les classes sont débalancées et nous pourrions utiliser les métriques f1-score, recall et precision pour evaluer notre modèle."
   ]
  },
  {
   "cell_type": "code",
   "execution_count": null,
   "metadata": {},
   "outputs": [],
   "source": []
  }
 ],
 "metadata": {
  "kernelspec": {
   "display_name": "Python 3",
   "language": "python",
   "name": "python3"
  },
  "language_info": {
   "codemirror_mode": {
    "name": "ipython",
    "version": 3
   },
   "file_extension": ".py",
   "mimetype": "text/x-python",
   "name": "python",
   "nbconvert_exporter": "python",
   "pygments_lexer": "ipython3",
   "version": "3.8.5"
  }
 },
 "nbformat": 4,
 "nbformat_minor": 4
}
