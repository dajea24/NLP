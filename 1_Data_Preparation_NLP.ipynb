{
 "cells": [
  {
   "cell_type": "markdown",
   "metadata": {},
   "source": [
    "## Projet : Catégorisation de texte\n",
    "\n",
    "**Contexte de réalisation**\n",
    "\n",
    "1.\tFormat: individuel\n",
    "2.\tDatasets: on a à notre disposition une source de données data_texte.csv\n",
    "\n",
    "Remise: le vendredi 5 février\n",
    "\n",
    "Objectif\n",
    "\n",
    "Ce projet a pour but d’évaluer votre compétence dans le développement et l’utilisation d’une approche supervisée.\n",
    "\n",
    "Description du projet\n",
    "L’entreprise a récemment développé un plan d’action pour améliorer son taux de classification de documents texte produits par ses différents services. Pour cela, il est proposé la mise en place d’un modèle permettant de catégoriser des documents texte.  \n",
    "\n",
    "Référence pour le dataset :\n",
    "http://mlg.ucd.ie/datasets/bbc.html  (BBCSport Fulltext)\n",
    "\n",
    "Noter que dans ce dataset, on a des dossiers par catégorie/classes (athletics, cricket, football, rugby, tennis)\n",
    "\n",
    "\n",
    "**Démarche**\n",
    "\n",
    "L’objectif est de:\n",
    "\n",
    "- développer un modèle qui va prédire le likelihood qu’un document appartienne à une certaine catégorie. \n",
    "\n",
    "\n",
    "Le modèle doit être développé sur un sous-ensemble de données qui vous sera fourni. \n",
    "\n",
    "Le modèle sera ensuite testé sur un sous-ensemble de données qui sera caché pendant la phase d’apprentissage.\n",
    "\n",
    "De ce fait, on testera la qualité du modèle sur des données qui ne font pas partie de l’ensemble d’apprentissage.\n",
    "\n",
    "\n",
    "Facteurs d’évaluation\n",
    "\n",
    "Trois facteurs seront utilisés, à savoir:\n",
    "\n",
    "- le **Score F1**, \n",
    "- la **taille de l’échantillon d’apprentissage;**\n",
    "- et les **ressources nécessaires pour l’apprentissage**.\n",
    "\n",
    "\n",
    "- **Score F1** : donne le sommaire des positives et négatives corrects sur l’ensemble des cas. Cela nous donne une mesure sur la différentiation du modèle, passage vs echec. \n",
    "\n",
    "- **Taille de l’échantillon d’apprentissage** : De préférence, on devra avoir un échantillon de petite taille au lieu d’un plus grand échantillon pour des considérations de logistique ou autre. De manière générale, quelle est la taille nécessaire pour que le modèle puisse être utilisé pour une prédiction adéquate?\n",
    "\n",
    "- **Ressource de calcul** : quelles sont les ressources nécessaires pour faire une prédiction adéquate? On parle ici du temps de traitement et de la mémoire nécessaire pour arriver au résultat demandé.\n",
    "\n",
    "\n",
    "\n",
    "**Tout autre métrique que vous pensez être approprié pour ce problème pourra être utilisé et évalué.**\n"
   ]
  },
  {
   "cell_type": "markdown",
   "metadata": {},
   "source": [
    "## 1. Préparation des données"
   ]
  },
  {
   "cell_type": "code",
   "execution_count": 1,
   "metadata": {},
   "outputs": [
    {
     "name": "stdout",
     "output_type": "stream",
     "text": [
      "/Users/davidjeannette/Desktop/mac_desktop/Projet Final_NLP_Cours_A56_BB\n"
     ]
    }
   ],
   "source": [
    "import numpy as np\n",
    "import pandas as pd\n",
    "import matplotlib.pyplot as plt\n",
    "\n",
    "\n",
    "import os\n",
    "path_main = os.getcwd()\n",
    "print(path_main)"
   ]
  },
  {
   "cell_type": "code",
   "execution_count": 2,
   "metadata": {},
   "outputs": [
    {
     "data": {
      "text/plain": [
       "'/Users/davidjeannette/Desktop/mac_desktop/Projet Final_NLP_Cours_A56_BB/bbcsport'"
      ]
     },
     "execution_count": 2,
     "metadata": {},
     "output_type": "execute_result"
    }
   ],
   "source": [
    "os.chdir(path_main + '/bbcsport')\n",
    "folder = os.getcwd()\n",
    "folder"
   ]
  },
  {
   "cell_type": "code",
   "execution_count": 3,
   "metadata": {},
   "outputs": [
    {
     "name": "stdout",
     "output_type": "stream",
     "text": [
      "['football', 'cricket', 'athletics', 'rugby', 'tennis', 'README.TXT']\n"
     ]
    }
   ],
   "source": [
    "folders = os.listdir(folder)\n",
    "print(folders)"
   ]
  },
  {
   "cell_type": "code",
   "execution_count": 4,
   "metadata": {},
   "outputs": [],
   "source": [
    "\n",
    "del folders[0]  # effacer le premier élément\n",
    "del folders[-1] # effacer le dernier élément\n",
    "\n",
    "# Nommer la liste folders comme catégories -->['football', 'cricket', 'athletics', 'rugby', 'tennis']\n",
    "\n",
    "categories = folders"
   ]
  },
  {
   "cell_type": "code",
   "execution_count": 5,
   "metadata": {},
   "outputs": [],
   "source": [
    "label = []\n",
    "column = []\n",
    "\n",
    "for cat in categories:  \n",
    "    \n",
    "    documents = os.listdir(folder + '/' + cat)          # recupérer les noms de tous les documents dans une catégorie\n",
    "\n",
    "    for doc in documents:\n",
    "        \n",
    "        path = folder + '/' + cat + '/' + doc         \n",
    "        \n",
    "        with open(path, 'rb') as f:\n",
    "            text = f.read()\n",
    "            column.append(text)\n",
    "            label.append(cat)     # creation d'une pile de documents = column.\n",
    "            \n",
    "f.close()"
   ]
  },
  {
   "cell_type": "code",
   "execution_count": 6,
   "metadata": {},
   "outputs": [],
   "source": [
    "data = {'Label': label, 'Text': column}\n",
    "\n",
    "df = pd.DataFrame(data)"
   ]
  },
  {
   "cell_type": "code",
   "execution_count": 7,
   "metadata": {},
   "outputs": [
    {
     "data": {
      "text/html": [
       "<div>\n",
       "<style scoped>\n",
       "    .dataframe tbody tr th:only-of-type {\n",
       "        vertical-align: middle;\n",
       "    }\n",
       "\n",
       "    .dataframe tbody tr th {\n",
       "        vertical-align: top;\n",
       "    }\n",
       "\n",
       "    .dataframe thead th {\n",
       "        text-align: right;\n",
       "    }\n",
       "</style>\n",
       "<table border=\"1\" class=\"dataframe\">\n",
       "  <thead>\n",
       "    <tr style=\"text-align: right;\">\n",
       "      <th></th>\n",
       "      <th>Label</th>\n",
       "      <th>Text</th>\n",
       "    </tr>\n",
       "  </thead>\n",
       "  <tbody>\n",
       "    <tr>\n",
       "      <th>0</th>\n",
       "      <td>cricket</td>\n",
       "      <td>b\"Kumble breaks Kapil's record\\n\\nFirst Test, ...</td>\n",
       "    </tr>\n",
       "    <tr>\n",
       "      <th>1</th>\n",
       "      <td>cricket</td>\n",
       "      <td>b\"Aussies tighten grip\\n\\nFirst Test, Perth, d...</td>\n",
       "    </tr>\n",
       "    <tr>\n",
       "      <th>2</th>\n",
       "      <td>cricket</td>\n",
       "      <td>b'Vaughan ready for South Africa\\n\\nSkipper Mi...</td>\n",
       "    </tr>\n",
       "    <tr>\n",
       "      <th>3</th>\n",
       "      <td>cricket</td>\n",
       "      <td>b'World XI triumph in tsunami match\\n\\nTsunami...</td>\n",
       "    </tr>\n",
       "    <tr>\n",
       "      <th>4</th>\n",
       "      <td>cricket</td>\n",
       "      <td>b'Shoaib ruled out of Test series\\n\\nFast bowl...</td>\n",
       "    </tr>\n",
       "    <tr>\n",
       "      <th>5</th>\n",
       "      <td>cricket</td>\n",
       "      <td>b'ICC ponders one-day alterations\\n\\nThe rules...</td>\n",
       "    </tr>\n",
       "    <tr>\n",
       "      <th>6</th>\n",
       "      <td>cricket</td>\n",
       "      <td>b'Bangladesh delighted at Test win\\n\\nBanglade...</td>\n",
       "    </tr>\n",
       "    <tr>\n",
       "      <th>7</th>\n",
       "      <td>cricket</td>\n",
       "      <td>b'Wilson back in Kiwi cricket squad\\n\\nFormer ...</td>\n",
       "    </tr>\n",
       "    <tr>\n",
       "      <th>8</th>\n",
       "      <td>cricket</td>\n",
       "      <td>b\"South Africa back in contention\\n\\nFirst Tes...</td>\n",
       "    </tr>\n",
       "    <tr>\n",
       "      <th>9</th>\n",
       "      <td>cricket</td>\n",
       "      <td>b\"Kumble overtakes Kapil's record\\n\\nFirst Tes...</td>\n",
       "    </tr>\n",
       "    <tr>\n",
       "      <th>10</th>\n",
       "      <td>cricket</td>\n",
       "      <td>b\"Australia complete series sweep\\n\\nThird Tes...</td>\n",
       "    </tr>\n",
       "    <tr>\n",
       "      <th>11</th>\n",
       "      <td>cricket</td>\n",
       "      <td>b\"Kaif shines in India win\\n\\nFirst one-day in...</td>\n",
       "    </tr>\n",
       "    <tr>\n",
       "      <th>12</th>\n",
       "      <td>cricket</td>\n",
       "      <td>b'Rain holds up England\\n\\nFifth Test, Centuri...</td>\n",
       "    </tr>\n",
       "    <tr>\n",
       "      <th>13</th>\n",
       "      <td>cricket</td>\n",
       "      <td>b'Holding slams Twenty20 \\'rubbish\\'\\n\\nWest I...</td>\n",
       "    </tr>\n",
       "    <tr>\n",
       "      <th>14</th>\n",
       "      <td>cricket</td>\n",
       "      <td>b'ECB defends England tour schedule\\n\\nThe Eng...</td>\n",
       "    </tr>\n",
       "    <tr>\n",
       "      <th>15</th>\n",
       "      <td>cricket</td>\n",
       "      <td>b'Scotland closing in on new coach\\n\\nScotland...</td>\n",
       "    </tr>\n",
       "    <tr>\n",
       "      <th>16</th>\n",
       "      <td>cricket</td>\n",
       "      <td>b'ICC relaxes bowling regulations\\n\\nThe Inter...</td>\n",
       "    </tr>\n",
       "    <tr>\n",
       "      <th>17</th>\n",
       "      <td>cricket</td>\n",
       "      <td>b\"Australia unchanged for Pakistan\\n\\nAustrali...</td>\n",
       "    </tr>\n",
       "    <tr>\n",
       "      <th>18</th>\n",
       "      <td>cricket</td>\n",
       "      <td>b'England \\'could win Ashes\\'\\n\\nFormer Englan...</td>\n",
       "    </tr>\n",
       "    <tr>\n",
       "      <th>19</th>\n",
       "      <td>cricket</td>\n",
       "      <td>b'England pondering line-up\\n\\nFirst one-day i...</td>\n",
       "    </tr>\n",
       "  </tbody>\n",
       "</table>\n",
       "</div>"
      ],
      "text/plain": [
       "      Label                                               Text\n",
       "0   cricket  b\"Kumble breaks Kapil's record\\n\\nFirst Test, ...\n",
       "1   cricket  b\"Aussies tighten grip\\n\\nFirst Test, Perth, d...\n",
       "2   cricket  b'Vaughan ready for South Africa\\n\\nSkipper Mi...\n",
       "3   cricket  b'World XI triumph in tsunami match\\n\\nTsunami...\n",
       "4   cricket  b'Shoaib ruled out of Test series\\n\\nFast bowl...\n",
       "5   cricket  b'ICC ponders one-day alterations\\n\\nThe rules...\n",
       "6   cricket  b'Bangladesh delighted at Test win\\n\\nBanglade...\n",
       "7   cricket  b'Wilson back in Kiwi cricket squad\\n\\nFormer ...\n",
       "8   cricket  b\"South Africa back in contention\\n\\nFirst Tes...\n",
       "9   cricket  b\"Kumble overtakes Kapil's record\\n\\nFirst Tes...\n",
       "10  cricket  b\"Australia complete series sweep\\n\\nThird Tes...\n",
       "11  cricket  b\"Kaif shines in India win\\n\\nFirst one-day in...\n",
       "12  cricket  b'Rain holds up England\\n\\nFifth Test, Centuri...\n",
       "13  cricket  b'Holding slams Twenty20 \\'rubbish\\'\\n\\nWest I...\n",
       "14  cricket  b'ECB defends England tour schedule\\n\\nThe Eng...\n",
       "15  cricket  b'Scotland closing in on new coach\\n\\nScotland...\n",
       "16  cricket  b'ICC relaxes bowling regulations\\n\\nThe Inter...\n",
       "17  cricket  b\"Australia unchanged for Pakistan\\n\\nAustrali...\n",
       "18  cricket  b'England \\'could win Ashes\\'\\n\\nFormer Englan...\n",
       "19  cricket  b'England pondering line-up\\n\\nFirst one-day i..."
      ]
     },
     "execution_count": 7,
     "metadata": {},
     "output_type": "execute_result"
    }
   ],
   "source": [
    "df.head(20)"
   ]
  },
  {
   "cell_type": "code",
   "execution_count": 9,
   "metadata": {},
   "outputs": [],
   "source": [
    "df.to_csv(path_main + '/data.csv', index = False)"
   ]
  }
 ],
 "metadata": {
  "kernelspec": {
   "display_name": "Python 3",
   "language": "python",
   "name": "python3"
  },
  "language_info": {
   "codemirror_mode": {
    "name": "ipython",
    "version": 3
   },
   "file_extension": ".py",
   "mimetype": "text/x-python",
   "name": "python",
   "nbconvert_exporter": "python",
   "pygments_lexer": "ipython3",
   "version": "3.8.5"
  }
 },
 "nbformat": 4,
 "nbformat_minor": 4
}
